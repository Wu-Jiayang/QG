{
 "cells": [
  {
   "cell_type": "code",
   "execution_count": 2,
   "metadata": {},
   "outputs": [
    {
     "data": {
      "text/plain": [
       "array([0., 0., 0., 0., 0., 0., 0., 0., 0., 0.])"
      ]
     },
     "execution_count": 2,
     "metadata": {},
     "output_type": "execute_result"
    }
   ],
   "source": [
    "import numpy as np\n",
    "\n",
    "nullVector = np.zeros(10)                                   # Create a null vector of size 10\n",
    "nullVector"
   ]
  },
  {
   "cell_type": "code",
   "execution_count": 4,
   "metadata": {},
   "outputs": [
    {
     "data": {
      "text/plain": [
       "array([0., 0., 0., 0., 1., 0., 0., 0., 0., 0.])"
      ]
     },
     "execution_count": 4,
     "metadata": {},
     "output_type": "execute_result"
    }
   ],
   "source": [
    "nullVector2 = np.zeros(10)                                  # Create a null vector of size 10 but the fifth value which is 1\n",
    "nullVector2[4] = 1\n",
    "nullVector2"
   ]
  },
  {
   "cell_type": "code",
   "execution_count": 6,
   "metadata": {},
   "outputs": [
    {
     "data": {
      "text/plain": [
       "array([10, 11, 12, 13, 14, 15, 16, 17, 18, 19, 20, 21, 22, 23, 24, 25, 26,\n",
       "       27, 28, 29, 30, 31, 32, 33, 34, 35, 36, 37, 38, 39, 40, 41, 42, 43,\n",
       "       44, 45, 46, 47, 48, 49])"
      ]
     },
     "execution_count": 6,
     "metadata": {},
     "output_type": "execute_result"
    }
   ],
   "source": [
    "vector = np.arange(10, 50)                                  # Create a vector with values ranging from 10 to 49\n",
    "vector"
   ]
  },
  {
   "cell_type": "code",
   "execution_count": 7,
   "metadata": {},
   "outputs": [
    {
     "data": {
      "text/plain": [
       "array([[0, 1, 2],\n",
       "       [3, 4, 5],\n",
       "       [6, 7, 8]])"
      ]
     },
     "execution_count": 7,
     "metadata": {},
     "output_type": "execute_result"
    }
   ],
   "source": [
    "matrix = np.arange(0, 9).reshape((3, 3))                    # Create a 3x3 matrix with values ranging from 0 to 8\n",
    "matrix"
   ]
  },
  {
   "cell_type": "code",
   "execution_count": 9,
   "metadata": {},
   "outputs": [
    {
     "data": {
      "text/plain": [
       "array([[0.26471157, 0.37590525, 0.19788309, 0.29221176, 0.46508405,\n",
       "        0.01337582, 0.99631898, 0.89278136, 0.23781355, 0.12995257],\n",
       "       [0.70433472, 0.02322415, 0.19350062, 0.09412111, 0.49952698,\n",
       "        0.24599332, 0.36063131, 0.06678914, 0.63575474, 0.84843636],\n",
       "       [0.81176079, 0.32706043, 0.88184296, 0.3527651 , 0.30193079,\n",
       "        0.8317919 , 0.01454097, 0.84669624, 0.77367184, 0.19433273],\n",
       "       [0.10389361, 0.59340375, 0.99882396, 0.45205145, 0.77257415,\n",
       "        0.57357293, 0.69015228, 0.41873387, 0.22389834, 0.34283814],\n",
       "       [0.21606377, 0.83239859, 0.47325129, 0.38747637, 0.1899322 ,\n",
       "        0.52912762, 0.75834433, 0.43258176, 0.53356072, 0.47377883],\n",
       "       [0.08612106, 0.22961431, 0.10963977, 0.55445488, 0.3750144 ,\n",
       "        0.8544758 , 0.09210681, 0.83049398, 0.06150206, 0.71888196],\n",
       "       [0.30526276, 0.64793208, 0.48606602, 0.16850684, 0.10989245,\n",
       "        0.38492091, 0.81451715, 0.83627156, 0.72388035, 0.34337386],\n",
       "       [0.56332413, 0.83715666, 0.25748049, 0.63323002, 0.01562784,\n",
       "        0.82478108, 0.01162979, 0.9733837 , 0.09397132, 0.36584752],\n",
       "       [0.21506795, 0.98121166, 0.08873528, 0.71145528, 0.95237312,\n",
       "        0.17255076, 0.55173973, 0.07286091, 0.59166844, 0.89245104],\n",
       "       [0.04576105, 0.55445775, 0.67272886, 0.80377915, 0.94022438,\n",
       "        0.55358755, 0.01605437, 0.7962121 , 0.22324751, 0.22975471]])"
      ]
     },
     "execution_count": 9,
     "metadata": {},
     "output_type": "execute_result"
    }
   ],
   "source": [
    "array = np.random.rand(10, 10)                              # Create a 10x10 array with random values and find the minimum and maximum values\n",
    "array"
   ]
  },
  {
   "cell_type": "code",
   "execution_count": 10,
   "metadata": {},
   "outputs": [
    {
     "data": {
      "text/plain": [
       "0.011629791894124386"
      ]
     },
     "execution_count": 10,
     "metadata": {},
     "output_type": "execute_result"
    }
   ],
   "source": [
    "array.min()"
   ]
  },
  {
   "cell_type": "code",
   "execution_count": 11,
   "metadata": {},
   "outputs": [
    {
     "data": {
      "text/plain": [
       "0.9988239559658747"
      ]
     },
     "execution_count": 11,
     "metadata": {},
     "output_type": "execute_result"
    }
   ],
   "source": [
    "array.max()"
   ]
  },
  {
   "cell_type": "code",
   "execution_count": 12,
   "metadata": {},
   "outputs": [
    {
     "data": {
      "text/plain": [
       "array([[1., 1., 1., 1., 1.],\n",
       "       [1., 0., 0., 0., 1.],\n",
       "       [1., 0., 0., 0., 1.],\n",
       "       [1., 0., 0., 0., 1.],\n",
       "       [1., 1., 1., 1., 1.]])"
      ]
     },
     "execution_count": 12,
     "metadata": {},
     "output_type": "execute_result"
    }
   ],
   "source": [
    "array2d = np.ones((5,5))                                    # Create a 2d array with 1 on the border and 0 inside\n",
    "array2d[1:-1,1:-1] = 0\n",
    "array2d"
   ]
  },
  {
   "cell_type": "code",
   "execution_count": 13,
   "metadata": {},
   "outputs": [
    {
     "data": {
      "text/plain": [
       "array([[0.19785333, 0.71924043],\n",
       "       [0.61248504, 0.65191369],\n",
       "       [0.75104511, 1.07381244],\n",
       "       [0.68984657, 0.75748572],\n",
       "       [0.95268335, 1.05941941]])"
      ]
     },
     "execution_count": 13,
     "metadata": {},
     "output_type": "execute_result"
    }
   ],
   "source": [
    "multiply = np.random.random((5,3))@np.random.random((3,2))  # Multiply a 5x3 matrix by a 3x2 matrix (real matrix product)\n",
    "multiply"
   ]
  },
  {
   "cell_type": "code",
   "execution_count": null,
   "metadata": {},
   "outputs": [],
   "source": []
  }
 ],
 "metadata": {
  "kernelspec": {
   "display_name": "Python 3",
   "language": "python",
   "name": "python3"
  },
  "language_info": {
   "codemirror_mode": {
    "name": "ipython",
    "version": 3
   },
   "file_extension": ".py",
   "mimetype": "text/x-python",
   "name": "python",
   "nbconvert_exporter": "python",
   "pygments_lexer": "ipython3",
   "version": "3.7.6"
  }
 },
 "nbformat": 4,
 "nbformat_minor": 4
}
